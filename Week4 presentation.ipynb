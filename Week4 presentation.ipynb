{
 "cells": [
  {
   "cell_type": "markdown",
   "metadata": {},
   "source": [
    "# Presentation\n",
    "#### In this undertaking, I am making a speculative situation for the idea that there may not be sufficient Indian Restaurants in Toronto Area. In this manner, it may be an incredible open door for a business person who is situated in Canada.\n",
    "#### As Indian food is well known among the Asian people group, so this  a business person may consider starting its business in zones where Asian network lives. In view of the reason, finding the area to open such a café is one of the most significant choices for this business visionary and I am structuring this task to assist him with finding the most reasonable area.\n",
    "# BUSINESS PROBLEM\n",
    "#### The target of this capstone venture is to locate the most reasonablearea for the business person to open another Indian Restaurant in Toronto, Canada. By utilizing information science strategies and instruments alongside AI calculations, for example, bunching, this task intends to give answers to answer the business question: In Toronto, if an a business person needs to open an Indian Restaurant, where should they think about opening it?"
   ]
  },
  {
   "cell_type": "code",
   "execution_count": null,
   "metadata": {},
   "outputs": [],
   "source": []
  }
 ],
 "metadata": {
  "kernelspec": {
   "display_name": "Python 3",
   "language": "python",
   "name": "python3"
  },
  "language_info": {
   "codemirror_mode": {
    "name": "ipython",
    "version": 3
   },
   "file_extension": ".py",
   "mimetype": "text/x-python",
   "name": "python",
   "nbconvert_exporter": "python",
   "pygments_lexer": "ipython3",
   "version": "3.7.1"
  }
 },
 "nbformat": 4,
 "nbformat_minor": 4
}

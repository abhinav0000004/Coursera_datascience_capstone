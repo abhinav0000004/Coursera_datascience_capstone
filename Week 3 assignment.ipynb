{
 "cells": [
  {
   "cell_type": "markdown",
   "metadata": {},
   "source": [
    "# Applied Data Science Capstone Week 3 Peer-Graded Assignment"
   ]
  },
  {
   "cell_type": "markdown",
   "metadata": {},
   "source": [
    "# Part 1"
   ]
  },
  {
   "cell_type": "markdown",
   "metadata": {},
   "source": [
    "### Importing Libraries"
   ]
  },
  {
   "cell_type": "code",
   "execution_count": 4,
   "metadata": {},
   "outputs": [],
   "source": [
    "import numpy as np\n",
    "import pandas as pd \n",
    "pd.set_option('display.max_columns', None)\n",
    "pd.set_option('display.max_rows', None)\n",
    "import json  \n",
    "from geopy.geocoders import Nominatim \n",
    "import requests \n",
    "from pandas.io.json import json_normalize\n",
    "import matplotlib.cm as cm\n",
    "import matplotlib.colors as colors\n",
    "from sklearn.cluster import KMeans \n",
    "from bs4 import BeautifulSoup\n",
    "import xml\n",
    "import folium"
   ]
  },
  {
   "cell_type": "markdown",
   "metadata": {},
   "source": [
    "### Scrape Data from Wikipedia"
   ]
  },
  {
   "cell_type": "code",
   "execution_count": 5,
   "metadata": {},
   "outputs": [],
   "source": [
    "url = requests.get('https://en.wikipedia.org/wiki/List_of_postal_codes_of_Canada:_M').text\n",
    "soup = BeautifulSoup(url,'lxml')"
   ]
  },
  {
   "cell_type": "code",
   "execution_count": 6,
   "metadata": {},
   "outputs": [
    {
     "data": {
      "text/html": [
       "<div>\n",
       "<style scoped>\n",
       "    .dataframe tbody tr th:only-of-type {\n",
       "        vertical-align: middle;\n",
       "    }\n",
       "\n",
       "    .dataframe tbody tr th {\n",
       "        vertical-align: top;\n",
       "    }\n",
       "\n",
       "    .dataframe thead th {\n",
       "        text-align: right;\n",
       "    }\n",
       "</style>\n",
       "<table border=\"1\" class=\"dataframe\">\n",
       "  <thead>\n",
       "    <tr style=\"text-align: right;\">\n",
       "      <th></th>\n",
       "      <th>Postcode</th>\n",
       "      <th>Borough</th>\n",
       "      <th>Neighbourhood</th>\n",
       "    </tr>\n",
       "  </thead>\n",
       "  <tbody>\n",
       "    <tr>\n",
       "      <th>0</th>\n",
       "      <td>M1A</td>\n",
       "      <td>Not assigned</td>\n",
       "      <td>Not assigned</td>\n",
       "    </tr>\n",
       "    <tr>\n",
       "      <th>1</th>\n",
       "      <td>M2A</td>\n",
       "      <td>Not assigned</td>\n",
       "      <td>Not assigned</td>\n",
       "    </tr>\n",
       "    <tr>\n",
       "      <th>2</th>\n",
       "      <td>M3A</td>\n",
       "      <td>North York</td>\n",
       "      <td>Parkwoods</td>\n",
       "    </tr>\n",
       "    <tr>\n",
       "      <th>3</th>\n",
       "      <td>M4A</td>\n",
       "      <td>North York</td>\n",
       "      <td>Victoria Village</td>\n",
       "    </tr>\n",
       "    <tr>\n",
       "      <th>4</th>\n",
       "      <td>M5A</td>\n",
       "      <td>Downtown Toronto</td>\n",
       "      <td>Regent Park, Harbourfront</td>\n",
       "    </tr>\n",
       "  </tbody>\n",
       "</table>\n",
       "</div>"
      ],
      "text/plain": [
       "  Postcode           Borough              Neighbourhood\n",
       "0      M1A      Not assigned               Not assigned\n",
       "1      M2A      Not assigned               Not assigned\n",
       "2      M3A        North York                  Parkwoods\n",
       "3      M4A        North York           Victoria Village\n",
       "4      M5A  Downtown Toronto  Regent Park, Harbourfront"
      ]
     },
     "execution_count": 6,
     "metadata": {},
     "output_type": "execute_result"
    }
   ],
   "source": [
    "table_post = soup.find('table')\n",
    "fields = table_post.find_all('td')\n",
    "\n",
    "postcode = []\n",
    "borough = []\n",
    "neighbourhood = []\n",
    "\n",
    "for i in range(0, len(fields), 3):\n",
    "    postcode.append(fields[i].text.strip())\n",
    "    borough.append(fields[i+1].text.strip())\n",
    "    neighbourhood.append(fields[i+2].text.strip())\n",
    "        \n",
    "df = pd.DataFrame(data=[postcode, borough, neighbourhood]).transpose()\n",
    "df.columns = ['Postcode', 'Borough', 'Neighbourhood']\n",
    "df.head()"
   ]
  },
  {
   "cell_type": "markdown",
   "metadata": {},
   "source": [
    "### Remove \"Not assigned\" and then Aggregate"
   ]
  },
  {
   "cell_type": "code",
   "execution_count": 7,
   "metadata": {},
   "outputs": [
    {
     "data": {
      "text/html": [
       "<div>\n",
       "<style scoped>\n",
       "    .dataframe tbody tr th:only-of-type {\n",
       "        vertical-align: middle;\n",
       "    }\n",
       "\n",
       "    .dataframe tbody tr th {\n",
       "        vertical-align: top;\n",
       "    }\n",
       "\n",
       "    .dataframe thead th {\n",
       "        text-align: right;\n",
       "    }\n",
       "</style>\n",
       "<table border=\"1\" class=\"dataframe\">\n",
       "  <thead>\n",
       "    <tr style=\"text-align: right;\">\n",
       "      <th></th>\n",
       "      <th>Postcode</th>\n",
       "      <th>Borough</th>\n",
       "      <th>Neighbourhood</th>\n",
       "    </tr>\n",
       "  </thead>\n",
       "  <tbody>\n",
       "    <tr>\n",
       "      <th>0</th>\n",
       "      <td>M1A</td>\n",
       "      <td>Not assigned</td>\n",
       "      <td>Not assigned</td>\n",
       "    </tr>\n",
       "    <tr>\n",
       "      <th>1</th>\n",
       "      <td>M2A</td>\n",
       "      <td>Not assigned</td>\n",
       "      <td>Not assigned</td>\n",
       "    </tr>\n",
       "    <tr>\n",
       "      <th>2</th>\n",
       "      <td>M3A</td>\n",
       "      <td>North York</td>\n",
       "      <td>Parkwoods</td>\n",
       "    </tr>\n",
       "    <tr>\n",
       "      <th>3</th>\n",
       "      <td>M4A</td>\n",
       "      <td>North York</td>\n",
       "      <td>Victoria Village</td>\n",
       "    </tr>\n",
       "    <tr>\n",
       "      <th>4</th>\n",
       "      <td>M5A</td>\n",
       "      <td>Downtown Toronto</td>\n",
       "      <td>Regent Park, Harbourfront</td>\n",
       "    </tr>\n",
       "  </tbody>\n",
       "</table>\n",
       "</div>"
      ],
      "text/plain": [
       "  Postcode           Borough              Neighbourhood\n",
       "0      M1A      Not assigned               Not assigned\n",
       "1      M2A      Not assigned               Not assigned\n",
       "2      M3A        North York                  Parkwoods\n",
       "3      M4A        North York           Victoria Village\n",
       "4      M5A  Downtown Toronto  Regent Park, Harbourfront"
      ]
     },
     "execution_count": 7,
     "metadata": {},
     "output_type": "execute_result"
    }
   ],
   "source": [
    "df.head()"
   ]
  },
  {
   "cell_type": "code",
   "execution_count": 8,
   "metadata": {},
   "outputs": [
    {
     "data": {
      "text/html": [
       "<div>\n",
       "<style scoped>\n",
       "    .dataframe tbody tr th:only-of-type {\n",
       "        vertical-align: middle;\n",
       "    }\n",
       "\n",
       "    .dataframe tbody tr th {\n",
       "        vertical-align: top;\n",
       "    }\n",
       "\n",
       "    .dataframe thead th {\n",
       "        text-align: right;\n",
       "    }\n",
       "</style>\n",
       "<table border=\"1\" class=\"dataframe\">\n",
       "  <thead>\n",
       "    <tr style=\"text-align: right;\">\n",
       "      <th></th>\n",
       "      <th>Postcode</th>\n",
       "      <th>Borough</th>\n",
       "      <th>Neighbourhood</th>\n",
       "    </tr>\n",
       "  </thead>\n",
       "  <tbody>\n",
       "    <tr>\n",
       "      <th>2</th>\n",
       "      <td>M3A</td>\n",
       "      <td>North York</td>\n",
       "      <td>Parkwoods</td>\n",
       "    </tr>\n",
       "    <tr>\n",
       "      <th>3</th>\n",
       "      <td>M4A</td>\n",
       "      <td>North York</td>\n",
       "      <td>Victoria Village</td>\n",
       "    </tr>\n",
       "    <tr>\n",
       "      <th>4</th>\n",
       "      <td>M5A</td>\n",
       "      <td>Downtown Toronto</td>\n",
       "      <td>Regent Park, Harbourfront</td>\n",
       "    </tr>\n",
       "    <tr>\n",
       "      <th>5</th>\n",
       "      <td>M6A</td>\n",
       "      <td>North York</td>\n",
       "      <td>Lawrence Manor, Lawrence Heights</td>\n",
       "    </tr>\n",
       "    <tr>\n",
       "      <th>6</th>\n",
       "      <td>M7A</td>\n",
       "      <td>Downtown Toronto</td>\n",
       "      <td>Queen's Park, Ontario Provincial Government</td>\n",
       "    </tr>\n",
       "  </tbody>\n",
       "</table>\n",
       "</div>"
      ],
      "text/plain": [
       "  Postcode           Borough                                Neighbourhood\n",
       "2      M3A        North York                                    Parkwoods\n",
       "3      M4A        North York                             Victoria Village\n",
       "4      M5A  Downtown Toronto                    Regent Park, Harbourfront\n",
       "5      M6A        North York             Lawrence Manor, Lawrence Heights\n",
       "6      M7A  Downtown Toronto  Queen's Park, Ontario Provincial Government"
      ]
     },
     "execution_count": 8,
     "metadata": {},
     "output_type": "execute_result"
    }
   ],
   "source": [
    "df['Borough'].replace('Not assigned', np.nan, inplace=True)\n",
    "df.dropna(subset=['Borough'], inplace=True)\n",
    "\n",
    "df.head()"
   ]
  },
  {
   "cell_type": "code",
   "execution_count": 9,
   "metadata": {},
   "outputs": [
    {
     "data": {
      "text/html": [
       "<div>\n",
       "<style scoped>\n",
       "    .dataframe tbody tr th:only-of-type {\n",
       "        vertical-align: middle;\n",
       "    }\n",
       "\n",
       "    .dataframe tbody tr th {\n",
       "        vertical-align: top;\n",
       "    }\n",
       "\n",
       "    .dataframe thead th {\n",
       "        text-align: right;\n",
       "    }\n",
       "</style>\n",
       "<table border=\"1\" class=\"dataframe\">\n",
       "  <thead>\n",
       "    <tr style=\"text-align: right;\">\n",
       "      <th></th>\n",
       "      <th>Postcode</th>\n",
       "      <th>Borough</th>\n",
       "      <th>Neighbourhood</th>\n",
       "    </tr>\n",
       "  </thead>\n",
       "  <tbody>\n",
       "    <tr>\n",
       "      <th>0</th>\n",
       "      <td>M1B</td>\n",
       "      <td>Scarborough</td>\n",
       "      <td>Malvern, Rouge</td>\n",
       "    </tr>\n",
       "    <tr>\n",
       "      <th>1</th>\n",
       "      <td>M1C</td>\n",
       "      <td>Scarborough</td>\n",
       "      <td>Rouge Hill, Port Union, Highland Creek</td>\n",
       "    </tr>\n",
       "    <tr>\n",
       "      <th>2</th>\n",
       "      <td>M1E</td>\n",
       "      <td>Scarborough</td>\n",
       "      <td>Guildwood, Morningside, West Hill</td>\n",
       "    </tr>\n",
       "    <tr>\n",
       "      <th>3</th>\n",
       "      <td>M1G</td>\n",
       "      <td>Scarborough</td>\n",
       "      <td>Woburn</td>\n",
       "    </tr>\n",
       "    <tr>\n",
       "      <th>4</th>\n",
       "      <td>M1H</td>\n",
       "      <td>Scarborough</td>\n",
       "      <td>Cedarbrae</td>\n",
       "    </tr>\n",
       "  </tbody>\n",
       "</table>\n",
       "</div>"
      ],
      "text/plain": [
       "  Postcode      Borough                           Neighbourhood\n",
       "0      M1B  Scarborough                          Malvern, Rouge\n",
       "1      M1C  Scarborough  Rouge Hill, Port Union, Highland Creek\n",
       "2      M1E  Scarborough       Guildwood, Morningside, West Hill\n",
       "3      M1G  Scarborough                                  Woburn\n",
       "4      M1H  Scarborough                               Cedarbrae"
      ]
     },
     "execution_count": 9,
     "metadata": {},
     "output_type": "execute_result"
    }
   ],
   "source": [
    "df1 = df.groupby(['Postcode', 'Borough'])['Neighbourhood'].apply(', '.join).reset_index()\n",
    "df1.columns = ['Postcode', 'Borough', 'Neighbourhood']\n",
    "df1.head()"
   ]
  },
  {
   "cell_type": "code",
   "execution_count": 10,
   "metadata": {},
   "outputs": [
    {
     "data": {
      "text/html": [
       "<div>\n",
       "<style scoped>\n",
       "    .dataframe tbody tr th:only-of-type {\n",
       "        vertical-align: middle;\n",
       "    }\n",
       "\n",
       "    .dataframe tbody tr th {\n",
       "        vertical-align: top;\n",
       "    }\n",
       "\n",
       "    .dataframe thead th {\n",
       "        text-align: right;\n",
       "    }\n",
       "</style>\n",
       "<table border=\"1\" class=\"dataframe\">\n",
       "  <thead>\n",
       "    <tr style=\"text-align: right;\">\n",
       "      <th></th>\n",
       "      <th>Postcode</th>\n",
       "      <th>Borough</th>\n",
       "      <th>Neighbourhood</th>\n",
       "    </tr>\n",
       "  </thead>\n",
       "  <tbody>\n",
       "    <tr>\n",
       "      <th>0</th>\n",
       "      <td>M1B</td>\n",
       "      <td>Scarborough</td>\n",
       "      <td>Malvern, Rouge</td>\n",
       "    </tr>\n",
       "    <tr>\n",
       "      <th>1</th>\n",
       "      <td>M1C</td>\n",
       "      <td>Scarborough</td>\n",
       "      <td>Rouge Hill, Port Union, Highland Creek</td>\n",
       "    </tr>\n",
       "    <tr>\n",
       "      <th>2</th>\n",
       "      <td>M1E</td>\n",
       "      <td>Scarborough</td>\n",
       "      <td>Guildwood, Morningside, West Hill</td>\n",
       "    </tr>\n",
       "    <tr>\n",
       "      <th>3</th>\n",
       "      <td>M1G</td>\n",
       "      <td>Scarborough</td>\n",
       "      <td>Woburn</td>\n",
       "    </tr>\n",
       "    <tr>\n",
       "      <th>4</th>\n",
       "      <td>M1H</td>\n",
       "      <td>Scarborough</td>\n",
       "      <td>Cedarbrae</td>\n",
       "    </tr>\n",
       "  </tbody>\n",
       "</table>\n",
       "</div>"
      ],
      "text/plain": [
       "  Postcode      Borough                           Neighbourhood\n",
       "0      M1B  Scarborough                          Malvern, Rouge\n",
       "1      M1C  Scarborough  Rouge Hill, Port Union, Highland Creek\n",
       "2      M1E  Scarborough       Guildwood, Morningside, West Hill\n",
       "3      M1G  Scarborough                                  Woburn\n",
       "4      M1H  Scarborough                               Cedarbrae"
      ]
     },
     "execution_count": 10,
     "metadata": {},
     "output_type": "execute_result"
    }
   ],
   "source": [
    "df1['Neighbourhood'].replace('Not assigned', \"Queen's Park\", inplace=True)\n",
    "df1.head()"
   ]
  },
  {
   "cell_type": "code",
   "execution_count": 11,
   "metadata": {},
   "outputs": [
    {
     "data": {
      "text/plain": [
       "(103, 3)"
      ]
     },
     "execution_count": 11,
     "metadata": {},
     "output_type": "execute_result"
    }
   ],
   "source": [
    "df1.shape"
   ]
  },
  {
   "cell_type": "code",
   "execution_count": 12,
   "metadata": {},
   "outputs": [],
   "source": [
    "df_geo = pd.read_csv('http://cocl.us/Geospatial_data')\n",
    "df_geo.columns = ['Postcode', 'Latitude', 'Longitude']"
   ]
  },
  {
   "cell_type": "code",
   "execution_count": 14,
   "metadata": {},
   "outputs": [
    {
     "data": {
      "text/html": [
       "<div>\n",
       "<style scoped>\n",
       "    .dataframe tbody tr th:only-of-type {\n",
       "        vertical-align: middle;\n",
       "    }\n",
       "\n",
       "    .dataframe tbody tr th {\n",
       "        vertical-align: top;\n",
       "    }\n",
       "\n",
       "    .dataframe thead th {\n",
       "        text-align: right;\n",
       "    }\n",
       "</style>\n",
       "<table border=\"1\" class=\"dataframe\">\n",
       "  <thead>\n",
       "    <tr style=\"text-align: right;\">\n",
       "      <th></th>\n",
       "      <th>Borough</th>\n",
       "      <th>Neighbourhood</th>\n",
       "      <th>Postcode</th>\n",
       "      <th>Latitude</th>\n",
       "      <th>Longitude</th>\n",
       "    </tr>\n",
       "  </thead>\n",
       "  <tbody>\n",
       "    <tr>\n",
       "      <th>0</th>\n",
       "      <td>Scarborough</td>\n",
       "      <td>Malvern, Rouge</td>\n",
       "      <td>M1B</td>\n",
       "      <td>43.806686</td>\n",
       "      <td>-79.194353</td>\n",
       "    </tr>\n",
       "    <tr>\n",
       "      <th>1</th>\n",
       "      <td>Scarborough</td>\n",
       "      <td>Rouge Hill, Port Union, Highland Creek</td>\n",
       "      <td>M1C</td>\n",
       "      <td>43.784535</td>\n",
       "      <td>-79.160497</td>\n",
       "    </tr>\n",
       "    <tr>\n",
       "      <th>2</th>\n",
       "      <td>Scarborough</td>\n",
       "      <td>Guildwood, Morningside, West Hill</td>\n",
       "      <td>M1E</td>\n",
       "      <td>43.763573</td>\n",
       "      <td>-79.188711</td>\n",
       "    </tr>\n",
       "    <tr>\n",
       "      <th>3</th>\n",
       "      <td>Scarborough</td>\n",
       "      <td>Woburn</td>\n",
       "      <td>M1G</td>\n",
       "      <td>43.770992</td>\n",
       "      <td>-79.216917</td>\n",
       "    </tr>\n",
       "    <tr>\n",
       "      <th>4</th>\n",
       "      <td>Scarborough</td>\n",
       "      <td>Cedarbrae</td>\n",
       "      <td>M1H</td>\n",
       "      <td>43.773136</td>\n",
       "      <td>-79.239476</td>\n",
       "    </tr>\n",
       "  </tbody>\n",
       "</table>\n",
       "</div>"
      ],
      "text/plain": [
       "       Borough                           Neighbourhood Postcode   Latitude  \\\n",
       "0  Scarborough                          Malvern, Rouge      M1B  43.806686   \n",
       "1  Scarborough  Rouge Hill, Port Union, Highland Creek      M1C  43.784535   \n",
       "2  Scarborough       Guildwood, Morningside, West Hill      M1E  43.763573   \n",
       "3  Scarborough                                  Woburn      M1G  43.770992   \n",
       "4  Scarborough                               Cedarbrae      M1H  43.773136   \n",
       "\n",
       "   Longitude  \n",
       "0 -79.194353  \n",
       "1 -79.160497  \n",
       "2 -79.188711  \n",
       "3 -79.216917  \n",
       "4 -79.239476  "
      ]
     },
     "execution_count": 14,
     "metadata": {},
     "output_type": "execute_result"
    }
   ],
   "source": [
    "df_pos = pd.merge(df1, df_geo, on=['Postcode'], how='inner')\n",
    "\n",
    "df_tor = df_pos[['Borough', 'Neighbourhood', 'Postcode', 'Latitude', 'Longitude']].copy()\n",
    "\n",
    "df_tor.head()"
   ]
  },
  {
   "cell_type": "code",
   "execution_count": 15,
   "metadata": {},
   "outputs": [
    {
     "name": "stderr",
     "output_type": "stream",
     "text": [
      "C:\\ProgramData\\Anaconda3\\lib\\site-packages\\ipykernel_launcher.py:3: DeprecationWarning: Using Nominatim with the default \"geopy/1.22.0\" `user_agent` is strongly discouraged, as it violates Nominatim's ToS https://operations.osmfoundation.org/policies/nominatim/ and may possibly cause 403 and 429 HTTP errors. Please specify a custom `user_agent` with `Nominatim(user_agent=\"my-application\")` or by overriding the default `user_agent`: `geopy.geocoders.options.default_user_agent = \"my-application\"`. In geopy 2.0 this will become an exception.\n",
      "  This is separate from the ipykernel package so we can avoid doing imports until\n"
     ]
    },
    {
     "name": "stdout",
     "output_type": "stream",
     "text": [
      "The geograpical coordinate of the City of Toronto are 43.6534817, -79.3839347.\n"
     ]
    }
   ],
   "source": [
    "address = 'Toronto, Canada'\n",
    "\n",
    "geolocator = Nominatim()\n",
    "location = geolocator.geocode(address)\n",
    "latitude = location.latitude\n",
    "longitude = location.longitude\n",
    "print('The geograpical coordinate of the City of Toronto are {}, {}.'.format(latitude, longitude))"
   ]
  },
  {
   "cell_type": "code",
   "execution_count": 16,
   "metadata": {},
   "outputs": [
    {
     "data": {
      "text/html": [
       "<div style=\"width:100%;\"><div style=\"position:relative;width:100%;height:0;padding-bottom:60%;\"><span style=\"color:#565656\">Make this Notebook Trusted to load map: File -> Trust Notebook</span><iframe src=\"about:blank\" style=\"position:absolute;width:100%;height:100%;left:0;top:0;border:none !important;\" data-html=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 onload=\"this.contentDocument.open();this.contentDocument.write(atob(this.getAttribute('data-html')));this.contentDocument.close();\" allowfullscreen webkitallowfullscreen mozallowfullscreen></iframe></div></div>"
      ],
      "text/plain": [
       "<folium.folium.Map at 0x2248d91db00>"
      ]
     },
     "execution_count": 16,
     "metadata": {},
     "output_type": "execute_result"
    }
   ],
   "source": [
    "# create map of New York using latitude and longitude values\n",
    "map_toronto = folium.Map(location=[latitude, longitude], zoom_start=10)\n",
    "\n",
    "# add markers to map\n",
    "for lat, lng, borough, neighborhood in zip(df_tor['Latitude'], df_tor['Longitude'], df_tor['Borough'], df_tor['Neighbourhood']):\n",
    "    label = '{}, {}'.format(neighborhood, borough)\n",
    "    label = folium.Popup(label, parse_html=True)\n",
    "    folium.CircleMarker(\n",
    "        [lat, lng],\n",
    "        radius=3,\n",
    "        popup=label,\n",
    "        color='green',\n",
    "        fill=True,\n",
    "        fill_color='#3199cc',\n",
    "        fill_opacity=0.3,\n",
    "        parse_html=False).add_to(map_toronto)  \n",
    "    \n",
    "map_toronto"
   ]
  },
  {
   "cell_type": "markdown",
   "metadata": {},
   "source": [
    "# Part 2"
   ]
  },
  {
   "cell_type": "markdown",
   "metadata": {},
   "source": [
    "## Explore Toronto Neighbourhoods\n",
    "#### Define Foursquare Credentials and Version"
   ]
  },
  {
   "cell_type": "code",
   "execution_count": 1,
   "metadata": {},
   "outputs": [
    {
     "name": "stdout",
     "output_type": "stream",
     "text": [
      "Your credentails:\n",
      "CLIENT_ID: heya\n",
      "CLIENT_SECRET:heya\n"
     ]
    }
   ],
   "source": [
    "CLIENT_ID = 'heya' # your Foursquare ID\n",
    "CLIENT_SECRET = 'heya' # your Foursquare Secret\n",
    "VERSION = '20190101' # Foursquare API version\n",
    "\n",
    "print('Your credentails:')\n",
    "print('CLIENT_ID: ' + CLIENT_ID)\n",
    "print('CLIENT_SECRET:' + CLIENT_SECRET)"
   ]
  },
  {
   "cell_type": "markdown",
   "metadata": {},
   "source": [
    "# Selecting neignbours for toronto "
   ]
  },
  {
   "cell_type": "code",
   "execution_count": 19,
   "metadata": {},
   "outputs": [
    {
     "data": {
      "text/html": [
       "<div>\n",
       "<style scoped>\n",
       "    .dataframe tbody tr th:only-of-type {\n",
       "        vertical-align: middle;\n",
       "    }\n",
       "\n",
       "    .dataframe tbody tr th {\n",
       "        vertical-align: top;\n",
       "    }\n",
       "\n",
       "    .dataframe thead th {\n",
       "        text-align: right;\n",
       "    }\n",
       "</style>\n",
       "<table border=\"1\" class=\"dataframe\">\n",
       "  <thead>\n",
       "    <tr style=\"text-align: right;\">\n",
       "      <th></th>\n",
       "      <th>Borough</th>\n",
       "      <th>Neighbourhood</th>\n",
       "      <th>Postcode</th>\n",
       "      <th>Latitude</th>\n",
       "      <th>Longitude</th>\n",
       "    </tr>\n",
       "  </thead>\n",
       "  <tbody>\n",
       "    <tr>\n",
       "      <th>0</th>\n",
       "      <td>East Toronto</td>\n",
       "      <td>The Beaches</td>\n",
       "      <td>M4E</td>\n",
       "      <td>43.676357</td>\n",
       "      <td>-79.293031</td>\n",
       "    </tr>\n",
       "    <tr>\n",
       "      <th>1</th>\n",
       "      <td>East Toronto</td>\n",
       "      <td>The Danforth West, Riverdale</td>\n",
       "      <td>M4K</td>\n",
       "      <td>43.679557</td>\n",
       "      <td>-79.352188</td>\n",
       "    </tr>\n",
       "    <tr>\n",
       "      <th>2</th>\n",
       "      <td>East Toronto</td>\n",
       "      <td>India Bazaar, The Beaches West</td>\n",
       "      <td>M4L</td>\n",
       "      <td>43.668999</td>\n",
       "      <td>-79.315572</td>\n",
       "    </tr>\n",
       "    <tr>\n",
       "      <th>3</th>\n",
       "      <td>East Toronto</td>\n",
       "      <td>Studio District</td>\n",
       "      <td>M4M</td>\n",
       "      <td>43.659526</td>\n",
       "      <td>-79.340923</td>\n",
       "    </tr>\n",
       "    <tr>\n",
       "      <th>4</th>\n",
       "      <td>Central Toronto</td>\n",
       "      <td>Lawrence Park</td>\n",
       "      <td>M4N</td>\n",
       "      <td>43.728020</td>\n",
       "      <td>-79.388790</td>\n",
       "    </tr>\n",
       "  </tbody>\n",
       "</table>\n",
       "</div>"
      ],
      "text/plain": [
       "           Borough                   Neighbourhood Postcode   Latitude  \\\n",
       "0     East Toronto                     The Beaches      M4E  43.676357   \n",
       "1     East Toronto    The Danforth West, Riverdale      M4K  43.679557   \n",
       "2     East Toronto  India Bazaar, The Beaches West      M4L  43.668999   \n",
       "3     East Toronto                 Studio District      M4M  43.659526   \n",
       "4  Central Toronto                   Lawrence Park      M4N  43.728020   \n",
       "\n",
       "   Longitude  \n",
       "0 -79.293031  \n",
       "1 -79.352188  \n",
       "2 -79.315572  \n",
       "3 -79.340923  \n",
       "4 -79.388790  "
      ]
     },
     "execution_count": 19,
     "metadata": {},
     "output_type": "execute_result"
    }
   ],
   "source": [
    "df_t4 = df_tor[df_tor['Borough'].str.contains('Toronto')]\n",
    "to_data = df_t4.reset_index(drop=True)\n",
    "to_data.head()           "
   ]
  },
  {
   "cell_type": "code",
   "execution_count": 20,
   "metadata": {},
   "outputs": [
    {
     "data": {
      "text/html": [
       "<div style=\"width:100%;\"><div style=\"position:relative;width:100%;height:0;padding-bottom:60%;\"><span style=\"color:#565656\">Make this Notebook Trusted to load map: File -> Trust Notebook</span><iframe src=\"about:blank\" style=\"position:absolute;width:100%;height:100%;left:0;top:0;border:none !important;\" data-html=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 onload=\"this.contentDocument.open();this.contentDocument.write(atob(this.getAttribute('data-html')));this.contentDocument.close();\" allowfullscreen webkitallowfullscreen mozallowfullscreen></iframe></div></div>"
      ],
      "text/plain": [
       "<folium.folium.Map at 0x2248da38828>"
      ]
     },
     "execution_count": 20,
     "metadata": {},
     "output_type": "execute_result"
    }
   ],
   "source": [
    "# create map of Toronto using latitude and longitude values\n",
    "map_tohood = folium.Map(location=[latitude, longitude], zoom_start=10)\n",
    "\n",
    "# add markers to map\n",
    "for lat, lng, borough, neighborhood in zip(to_data['Latitude'], to_data['Longitude'], to_data['Borough'], to_data['Neighbourhood']):\n",
    "    label = '{}, {}'.format(neighborhood, borough)\n",
    "    label = folium.Popup(label, parse_html=True)\n",
    "    folium.CircleMarker(\n",
    "        [lat, lng],\n",
    "        radius=3,\n",
    "        popup=label,\n",
    "        color='green',\n",
    "        fill=True,\n",
    "        fill_color='#3199cc',\n",
    "        fill_opacity=0.3,\n",
    "        parse_html=False).add_to(map_tohood)  \n",
    "    \n",
    "map_tohood"
   ]
  },
  {
   "cell_type": "code",
   "execution_count": 21,
   "metadata": {},
   "outputs": [
    {
     "data": {
      "text/plain": [
       "'The Beaches'"
      ]
     },
     "execution_count": 21,
     "metadata": {},
     "output_type": "execute_result"
    }
   ],
   "source": [
    "to_data.loc[0, 'Neighbourhood']"
   ]
  },
  {
   "cell_type": "markdown",
   "metadata": {},
   "source": [
    "### Neighbourhood lat and lon values"
   ]
  },
  {
   "cell_type": "code",
   "execution_count": 22,
   "metadata": {},
   "outputs": [
    {
     "name": "stdout",
     "output_type": "stream",
     "text": [
      "Latitude and longitude values of The Beaches are 43.67635739999999, -79.2930312.\n"
     ]
    }
   ],
   "source": [
    "neighbourhood_latitude = to_data.loc[0, 'Latitude'] \n",
    "neighbourhood_longitude = to_data.loc[0, 'Longitude'] \n",
    "neighbourhood_name = to_data.loc[0, 'Neighbourhood'] \n",
    "print('Latitude and longitude values of {} are {}, {}.'.format(neighbourhood_name, \n",
    "                                                               neighbourhood_latitude, \n",
    "                                                               neighbourhood_longitude))"
   ]
  },
  {
   "cell_type": "code",
   "execution_count": 23,
   "metadata": {},
   "outputs": [
    {
     "data": {
      "text/plain": [
       "'https://api.foursquare.com/v2/venues/explore?&client_id=IFW5NOZBLARJAY1PWI1PBRL45QQHDH01HHO5ESHEC1JPQFZU&client_secret=N2UZTX4E0HE2M3FSHPUIXMGLWYG10TA5YYME0FFV4QF0FLUF&v=20190101&ll=43.67635739999999,-79.2930312&radius=500&limit=50'"
      ]
     },
     "execution_count": 23,
     "metadata": {},
     "output_type": "execute_result"
    }
   ],
   "source": [
    "LIMIT = 50\n",
    "radius = 500\n",
    "\n",
    "url = 'https://api.foursquare.com/v2/venues/explore?&client_id={}&client_secret={}&v={}&ll={},{}&radius={}&limit={}'.format(\n",
    "    CLIENT_ID, \n",
    "    CLIENT_SECRET, \n",
    "    VERSION, \n",
    "    neighbourhood_latitude, \n",
    "    neighbourhood_longitude, \n",
    "    radius, \n",
    "    LIMIT)\n",
    "url"
   ]
  },
  {
   "cell_type": "code",
   "execution_count": 24,
   "metadata": {},
   "outputs": [
    {
     "data": {
      "text/plain": [
       "{'meta': {'code': 200, 'requestId': '5eedeec50be7b4001b53f32a'},\n",
       " 'response': {'headerLocation': 'The Beaches',\n",
       "  'headerFullLocation': 'The Beaches, Toronto',\n",
       "  'headerLocationGranularity': 'neighborhood',\n",
       "  'totalResults': 6,\n",
       "  'suggestedBounds': {'ne': {'lat': 43.680857404499996,\n",
       "    'lng': -79.28682091449052},\n",
       "   'sw': {'lat': 43.67185739549999, 'lng': -79.29924148550948}},\n",
       "  'groups': [{'type': 'Recommended Places',\n",
       "    'name': 'recommended',\n",
       "    'items': [{'reasons': {'count': 0,\n",
       "       'items': [{'summary': 'This spot is popular',\n",
       "         'type': 'general',\n",
       "         'reasonName': 'globalInteractionReason'}]},\n",
       "      'venue': {'id': '4bd461bc77b29c74a07d9282',\n",
       "       'name': 'Glen Manor Ravine',\n",
       "       'location': {'address': 'Glen Manor',\n",
       "        'crossStreet': 'Queen St.',\n",
       "        'lat': 43.67682094413784,\n",
       "        'lng': -79.29394208780985,\n",
       "        'labeledLatLngs': [{'label': 'display',\n",
       "          'lat': 43.67682094413784,\n",
       "          'lng': -79.29394208780985}],\n",
       "        'distance': 89,\n",
       "        'cc': 'CA',\n",
       "        'city': 'Toronto',\n",
       "        'state': 'ON',\n",
       "        'country': 'Canada',\n",
       "        'formattedAddress': ['Glen Manor (Queen St.)',\n",
       "         'Toronto ON',\n",
       "         'Canada']},\n",
       "       'categories': [{'id': '4bf58dd8d48988d159941735',\n",
       "         'name': 'Trail',\n",
       "         'pluralName': 'Trails',\n",
       "         'shortName': 'Trail',\n",
       "         'icon': {'prefix': 'https://ss3.4sqi.net/img/categories_v2/parks_outdoors/hikingtrail_',\n",
       "          'suffix': '.png'},\n",
       "         'primary': True}],\n",
       "       'photos': {'count': 0, 'groups': []}},\n",
       "      'referralId': 'e-0-4bd461bc77b29c74a07d9282-0'},\n",
       "     {'reasons': {'count': 0,\n",
       "       'items': [{'summary': 'This spot is popular',\n",
       "         'type': 'general',\n",
       "         'reasonName': 'globalInteractionReason'}]},\n",
       "      'venue': {'id': '4ad4c062f964a52011f820e3',\n",
       "       'name': 'The Big Carrot Natural Food Market',\n",
       "       'location': {'address': '125 Southwood Dr',\n",
       "        'lat': 43.678879,\n",
       "        'lng': -79.297734,\n",
       "        'labeledLatLngs': [{'label': 'display',\n",
       "          'lat': 43.678879,\n",
       "          'lng': -79.297734}],\n",
       "        'distance': 471,\n",
       "        'postalCode': 'M4E 0B8',\n",
       "        'cc': 'CA',\n",
       "        'city': 'Toronto',\n",
       "        'state': 'ON',\n",
       "        'country': 'Canada',\n",
       "        'formattedAddress': ['125 Southwood Dr',\n",
       "         'Toronto ON M4E 0B8',\n",
       "         'Canada']},\n",
       "       'categories': [{'id': '50aa9e744b90af0d42d5de0e',\n",
       "         'name': 'Health Food Store',\n",
       "         'pluralName': 'Health Food Stores',\n",
       "         'shortName': 'Health Food Store',\n",
       "         'icon': {'prefix': 'https://ss3.4sqi.net/img/categories_v2/shops/food_grocery_',\n",
       "          'suffix': '.png'},\n",
       "         'primary': True}],\n",
       "       'photos': {'count': 0, 'groups': []},\n",
       "       'venuePage': {'id': '75150878'}},\n",
       "      'referralId': 'e-0-4ad4c062f964a52011f820e3-1'},\n",
       "     {'reasons': {'count': 0,\n",
       "       'items': [{'summary': 'This spot is popular',\n",
       "         'type': 'general',\n",
       "         'reasonName': 'globalInteractionReason'}]},\n",
       "      'venue': {'id': '4b8daea1f964a520480833e3',\n",
       "       'name': 'Grover Pub and Grub',\n",
       "       'location': {'address': '676 Kingston Rd.',\n",
       "        'crossStreet': 'at Main St.',\n",
       "        'lat': 43.679181434941015,\n",
       "        'lng': -79.29721535878515,\n",
       "        'labeledLatLngs': [{'label': 'display',\n",
       "          'lat': 43.679181434941015,\n",
       "          'lng': -79.29721535878515}],\n",
       "        'distance': 460,\n",
       "        'postalCode': 'M4E 1R4',\n",
       "        'cc': 'CA',\n",
       "        'city': 'Toronto',\n",
       "        'state': 'ON',\n",
       "        'country': 'Canada',\n",
       "        'formattedAddress': ['676 Kingston Rd. (at Main St.)',\n",
       "         'Toronto ON M4E 1R4',\n",
       "         'Canada']},\n",
       "       'categories': [{'id': '4bf58dd8d48988d11b941735',\n",
       "         'name': 'Pub',\n",
       "         'pluralName': 'Pubs',\n",
       "         'shortName': 'Pub',\n",
       "         'icon': {'prefix': 'https://ss3.4sqi.net/img/categories_v2/nightlife/pub_',\n",
       "          'suffix': '.png'},\n",
       "         'primary': True}],\n",
       "       'photos': {'count': 0, 'groups': []}},\n",
       "      'referralId': 'e-0-4b8daea1f964a520480833e3-2'},\n",
       "     {'reasons': {'count': 0,\n",
       "       'items': [{'summary': 'This spot is popular',\n",
       "         'type': 'general',\n",
       "         'reasonName': 'globalInteractionReason'}]},\n",
       "      'venue': {'id': '50f9bbcc5d24acebc25935b5',\n",
       "       'name': \"Domino's Pizza\",\n",
       "       'location': {'address': '670 Kingston Road',\n",
       "        'lat': 43.67905757954377,\n",
       "        'lng': -79.29738179140233,\n",
       "        'labeledLatLngs': [{'label': 'display',\n",
       "          'lat': 43.67905757954377,\n",
       "          'lng': -79.29738179140233}],\n",
       "        'distance': 461,\n",
       "        'postalCode': 'M4E 1R4',\n",
       "        'cc': 'CA',\n",
       "        'city': 'Toronto',\n",
       "        'state': 'ON',\n",
       "        'country': 'Canada',\n",
       "        'formattedAddress': ['670 Kingston Road',\n",
       "         'Toronto ON M4E 1R4',\n",
       "         'Canada']},\n",
       "       'categories': [{'id': '4bf58dd8d48988d1ca941735',\n",
       "         'name': 'Pizza Place',\n",
       "         'pluralName': 'Pizza Places',\n",
       "         'shortName': 'Pizza',\n",
       "         'icon': {'prefix': 'https://ss3.4sqi.net/img/categories_v2/food/pizza_',\n",
       "          'suffix': '.png'},\n",
       "         'primary': True}],\n",
       "       'photos': {'count': 0, 'groups': []}},\n",
       "      'referralId': 'e-0-50f9bbcc5d24acebc25935b5-3'},\n",
       "     {'reasons': {'count': 0,\n",
       "       'items': [{'summary': 'This spot is popular',\n",
       "         'type': 'general',\n",
       "         'reasonName': 'globalInteractionReason'}]},\n",
       "      'venue': {'id': '4df91c4bae60f95f82229ad5',\n",
       "       'name': 'Upper Beaches',\n",
       "       'location': {'lat': 43.68056321147582,\n",
       "        'lng': -79.2928688743688,\n",
       "        'labeledLatLngs': [{'label': 'display',\n",
       "          'lat': 43.68056321147582,\n",
       "          'lng': -79.2928688743688}],\n",
       "        'distance': 468,\n",
       "        'cc': 'CA',\n",
       "        'city': 'Toronto',\n",
       "        'state': 'ON',\n",
       "        'country': 'Canada',\n",
       "        'formattedAddress': ['Toronto ON', 'Canada']},\n",
       "       'categories': [{'id': '4f2a25ac4b909258e854f55f',\n",
       "         'name': 'Neighborhood',\n",
       "         'pluralName': 'Neighborhoods',\n",
       "         'shortName': 'Neighborhood',\n",
       "         'icon': {'prefix': 'https://ss3.4sqi.net/img/categories_v2/parks_outdoors/neighborhood_',\n",
       "          'suffix': '.png'},\n",
       "         'primary': True}],\n",
       "       'photos': {'count': 0, 'groups': []}},\n",
       "      'referralId': 'e-0-4df91c4bae60f95f82229ad5-4'},\n",
       "     {'reasons': {'count': 0,\n",
       "       'items': [{'summary': 'This spot is popular',\n",
       "         'type': 'general',\n",
       "         'reasonName': 'globalInteractionReason'}]},\n",
       "      'venue': {'id': '4dbc53541e72b351caafda72',\n",
       "       'name': 'Seaspray Restaurant',\n",
       "       'location': {'address': '629 Kingston Rd',\n",
       "        'crossStreet': 'at Main St',\n",
       "        'lat': 43.678887885937094,\n",
       "        'lng': -79.29816674246032,\n",
       "        'labeledLatLngs': [{'label': 'display',\n",
       "          'lat': 43.678887885937094,\n",
       "          'lng': -79.29816674246032}],\n",
       "        'distance': 500,\n",
       "        'cc': 'CA',\n",
       "        'city': 'Toronto',\n",
       "        'state': 'ON',\n",
       "        'country': 'Canada',\n",
       "        'formattedAddress': ['629 Kingston Rd (at Main St)',\n",
       "         'Toronto ON',\n",
       "         'Canada']},\n",
       "       'categories': [{'id': '4bf58dd8d48988d142941735',\n",
       "         'name': 'Asian Restaurant',\n",
       "         'pluralName': 'Asian Restaurants',\n",
       "         'shortName': 'Asian',\n",
       "         'icon': {'prefix': 'https://ss3.4sqi.net/img/categories_v2/food/asian_',\n",
       "          'suffix': '.png'},\n",
       "         'primary': True}],\n",
       "       'photos': {'count': 0, 'groups': []}},\n",
       "      'referralId': 'e-0-4dbc53541e72b351caafda72-5'}]}]}}"
      ]
     },
     "execution_count": 24,
     "metadata": {},
     "output_type": "execute_result"
    }
   ],
   "source": [
    "results = requests.get(url).json()\n",
    "results"
   ]
  },
  {
   "cell_type": "code",
   "execution_count": 25,
   "metadata": {},
   "outputs": [],
   "source": [
    "# function that extracts the category of the venue\n",
    "def get_category_type(row):\n",
    "    try:\n",
    "        categories_list = row['categories']\n",
    "    except:\n",
    "        categories_list = row['venue.categories']\n",
    "        \n",
    "    if len(categories_list) == 0:\n",
    "        return None\n",
    "    else:\n",
    "        return categories_list[0]['name']"
   ]
  },
  {
   "cell_type": "code",
   "execution_count": 26,
   "metadata": {},
   "outputs": [
    {
     "name": "stderr",
     "output_type": "stream",
     "text": [
      "C:\\ProgramData\\Anaconda3\\lib\\site-packages\\ipykernel_launcher.py:3: FutureWarning: pandas.io.json.json_normalize is deprecated, use pandas.json_normalize instead\n",
      "  This is separate from the ipykernel package so we can avoid doing imports until\n"
     ]
    },
    {
     "data": {
      "text/html": [
       "<div>\n",
       "<style scoped>\n",
       "    .dataframe tbody tr th:only-of-type {\n",
       "        vertical-align: middle;\n",
       "    }\n",
       "\n",
       "    .dataframe tbody tr th {\n",
       "        vertical-align: top;\n",
       "    }\n",
       "\n",
       "    .dataframe thead th {\n",
       "        text-align: right;\n",
       "    }\n",
       "</style>\n",
       "<table border=\"1\" class=\"dataframe\">\n",
       "  <thead>\n",
       "    <tr style=\"text-align: right;\">\n",
       "      <th></th>\n",
       "      <th>name</th>\n",
       "      <th>categories</th>\n",
       "      <th>lat</th>\n",
       "      <th>lng</th>\n",
       "    </tr>\n",
       "  </thead>\n",
       "  <tbody>\n",
       "    <tr>\n",
       "      <th>0</th>\n",
       "      <td>Glen Manor Ravine</td>\n",
       "      <td>Trail</td>\n",
       "      <td>43.676821</td>\n",
       "      <td>-79.293942</td>\n",
       "    </tr>\n",
       "    <tr>\n",
       "      <th>1</th>\n",
       "      <td>The Big Carrot Natural Food Market</td>\n",
       "      <td>Health Food Store</td>\n",
       "      <td>43.678879</td>\n",
       "      <td>-79.297734</td>\n",
       "    </tr>\n",
       "    <tr>\n",
       "      <th>2</th>\n",
       "      <td>Grover Pub and Grub</td>\n",
       "      <td>Pub</td>\n",
       "      <td>43.679181</td>\n",
       "      <td>-79.297215</td>\n",
       "    </tr>\n",
       "    <tr>\n",
       "      <th>3</th>\n",
       "      <td>Domino's Pizza</td>\n",
       "      <td>Pizza Place</td>\n",
       "      <td>43.679058</td>\n",
       "      <td>-79.297382</td>\n",
       "    </tr>\n",
       "    <tr>\n",
       "      <th>4</th>\n",
       "      <td>Upper Beaches</td>\n",
       "      <td>Neighborhood</td>\n",
       "      <td>43.680563</td>\n",
       "      <td>-79.292869</td>\n",
       "    </tr>\n",
       "  </tbody>\n",
       "</table>\n",
       "</div>"
      ],
      "text/plain": [
       "                                 name         categories        lat        lng\n",
       "0                   Glen Manor Ravine              Trail  43.676821 -79.293942\n",
       "1  The Big Carrot Natural Food Market  Health Food Store  43.678879 -79.297734\n",
       "2                 Grover Pub and Grub                Pub  43.679181 -79.297215\n",
       "3                      Domino's Pizza        Pizza Place  43.679058 -79.297382\n",
       "4                       Upper Beaches       Neighborhood  43.680563 -79.292869"
      ]
     },
     "execution_count": 26,
     "metadata": {},
     "output_type": "execute_result"
    }
   ],
   "source": [
    "venues = results['response']['groups'][0]['items']\n",
    "    \n",
    "nearby_venues = json_normalize(venues) # flatten JSON\n",
    "\n",
    "# filter columns\n",
    "filtered_columns = ['venue.name', 'venue.categories', 'venue.location.lat', 'venue.location.lng']\n",
    "nearby_venues =nearby_venues.loc[:, filtered_columns]\n",
    "\n",
    "# filter the category for each row\n",
    "nearby_venues['venue.categories'] = nearby_venues.apply(get_category_type, axis=1)\n",
    "\n",
    "# clean columns\n",
    "nearby_venues.columns = [col.split(\".\")[-1] for col in nearby_venues.columns]\n",
    "\n",
    "nearby_venues.head()"
   ]
  },
  {
   "cell_type": "markdown",
   "metadata": {},
   "source": [
    "### Number of values returned by four Square"
   ]
  },
  {
   "cell_type": "code",
   "execution_count": 27,
   "metadata": {},
   "outputs": [
    {
     "name": "stdout",
     "output_type": "stream",
     "text": [
      "6 venues were returned by Foursquare.\n"
     ]
    }
   ],
   "source": [
    "print('{} venues were returned by Foursquare.'.format(nearby_venues.shape[0]))"
   ]
  },
  {
   "cell_type": "code",
   "execution_count": null,
   "metadata": {},
   "outputs": [],
   "source": []
  }
 ],
 "metadata": {
  "kernelspec": {
   "display_name": "Python 3",
   "language": "python",
   "name": "python3"
  },
  "language_info": {
   "codemirror_mode": {
    "name": "ipython",
    "version": 3
   },
   "file_extension": ".py",
   "mimetype": "text/x-python",
   "name": "python",
   "nbconvert_exporter": "python",
   "pygments_lexer": "ipython3",
   "version": "3.7.1"
  }
 },
 "nbformat": 4,
 "nbformat_minor": 2
}
